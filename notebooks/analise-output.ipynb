{
 "cells": [
  {
   "cell_type": "markdown",
   "metadata": {},
   "source": [
    "# Análise de dados dos deputados"
   ]
  },
  {
   "cell_type": "code",
   "execution_count": 1,
   "metadata": {},
   "outputs": [],
   "source": [
    "import pandas as pd"
   ]
  },
  {
   "cell_type": "code",
   "execution_count": 2,
   "metadata": {},
   "outputs": [],
   "source": [
    "df_candidatos = pd.read_csv('../data/output/votos_consolidados_por_deputado.csv')"
   ]
  },
  {
   "cell_type": "code",
   "execution_count": 3,
   "metadata": {},
   "outputs": [],
   "source": [
    "df_partidos = pd.read_csv('../data/output/votos_consolidados_por_partido.csv')"
   ]
  },
  {
   "cell_type": "code",
   "execution_count": 4,
   "metadata": {},
   "outputs": [],
   "source": [
    "deputados_eleitos_camara = pd.read_csv('../data/output/deputados_eleitos.csv')"
   ]
  },
  {
   "cell_type": "code",
   "execution_count": 5,
   "metadata": {},
   "outputs": [],
   "source": [
    "PARTIDO = 'PSL'\n",
    "ESTADO = 'RJ'"
   ]
  },
  {
   "cell_type": "code",
   "execution_count": 6,
   "metadata": {},
   "outputs": [
    {
     "data": {
      "text/plain": [
       "Index(['composicao_legenda', 'descricao_detalhe_situacao_candidatura',\n",
       "       'descricao_situacao_candidatura', 'descricao_totalizacao_turno',\n",
       "       'descricao_ue', 'nome', 'nome_legenda', 'nome_partido', 'nome_urna',\n",
       "       'numero_partido', 'numero_urna', 'sigla_partido', 'sigla_uf',\n",
       "       'tipo_agremiacao', 'total_votos'],\n",
       "      dtype='object')"
      ]
     },
     "execution_count": 6,
     "metadata": {},
     "output_type": "execute_result"
    }
   ],
   "source": [
    "df_candidatos.columns"
   ]
  },
  {
   "cell_type": "code",
   "execution_count": 7,
   "metadata": {},
   "outputs": [
    {
     "data": {
      "text/plain": [
       "Index(['composicao_legenda', 'descricao_ue', 'nome_legenda', 'nome_partido',\n",
       "       'numero_partido', 'sigla_partido', 'sigla_uf', 'tipo_agremiacao',\n",
       "       'total_legenda', 'total_votos'],\n",
       "      dtype='object')"
      ]
     },
     "execution_count": 7,
     "metadata": {},
     "output_type": "execute_result"
    }
   ],
   "source": [
    "df_partidos.columns"
   ]
  },
  {
   "cell_type": "code",
   "execution_count": 8,
   "metadata": {},
   "outputs": [
    {
     "data": {
      "text/plain": [
       "array(['AC', 'AL', 'AM', 'AP', 'BA', 'CE', 'DF', 'ES', 'GO', 'MA', 'MG',\n",
       "       'MS', 'MT', 'PA', 'PB', 'PE', 'PI', 'PR', 'RJ', 'RN', 'RO', 'RR',\n",
       "       'RS', 'SC', 'SE', 'SP', 'TO'], dtype=object)"
      ]
     },
     "execution_count": 8,
     "metadata": {},
     "output_type": "execute_result"
    }
   ],
   "source": [
    "df_candidatos['sigla_uf'].unique()"
   ]
  },
  {
   "cell_type": "code",
   "execution_count": 9,
   "metadata": {},
   "outputs": [],
   "source": [
    "deputados_por_estado = df_candidatos[df_candidatos['sigla_uf'] == ESTADO]"
   ]
  },
  {
   "cell_type": "code",
   "execution_count": 10,
   "metadata": {},
   "outputs": [],
   "source": [
    "partidos_por_estado = df_partidos[df_partidos['sigla_uf'] == ESTADO]"
   ]
  },
  {
   "cell_type": "code",
   "execution_count": 11,
   "metadata": {},
   "outputs": [
    {
     "data": {
      "text/plain": [
       "array(['SUPLENTE', 'ELEITO POR QP', 'NAO ELEITO', 'ELEITO POR MEDIA'],\n",
       "      dtype=object)"
      ]
     },
     "execution_count": 11,
     "metadata": {},
     "output_type": "execute_result"
    }
   ],
   "source": [
    "deputados_por_estado['descricao_totalizacao_turno'].unique()"
   ]
  },
  {
   "cell_type": "code",
   "execution_count": 12,
   "metadata": {},
   "outputs": [],
   "source": [
    "# quantidade de deputados eleitos no RJ\n",
    "conditions = ['ELEITO POR QP', 'ELEITO POR MEDIA']\n",
    "dp_eleitos_estado = len(deputados_por_estado[deputados_por_estado['descricao_totalizacao_turno'].isin(conditions)])"
   ]
  },
  {
   "cell_type": "code",
   "execution_count": 13,
   "metadata": {},
   "outputs": [],
   "source": [
    "# 1) Qual o coeficiente de votos para um partido / coligação ter ao menos uma cadeira, dentro do RJ?\n",
    "# 2) Quantos votos o partido PSL conseguiu? (Lembrando que no RJ, disputaram sozinhos - sem coligação)\n",
    "# 3) Quantos votos o Helio Bolsonaro conseguiu?\n",
    "# 4) Houve deputados puxados? Quais?"
   ]
  },
  {
   "cell_type": "code",
   "execution_count": 14,
   "metadata": {},
   "outputs": [],
   "source": [
    "# 1) Qual o coeficiente de votos para um partido / coligação ter ao menos uma cadeira, dentro do RJ?\n",
    "soma_votos_estado = sum(deputados_por_estado['total_votos']) + sum(partidos_por_estado['total_legenda'])\n",
    "coeciente_eleitoral_estado = soma_votos_estado / dp_eleitos_estado"
   ]
  },
  {
   "cell_type": "code",
   "execution_count": 15,
   "metadata": {},
   "outputs": [
    {
     "name": "stdout",
     "output_type": "stream",
     "text": [
      "Summary\n",
      "Quantidade de votos válidos para legenda + candidatos 9615518\n",
      "Quantidade de candidatos eleitos 46\n",
      "Coeciente eleitoral para o RJ 209033.0\n"
     ]
    }
   ],
   "source": [
    "print('Summary')\n",
    "print(f'Quantidade de votos válidos para legenda + candidatos {soma_votos_estado}')\n",
    "print(f'Quantidade de candidatos eleitos {dp_eleitos_estado}')\n",
    "print(f'Coeciente eleitoral para o {ESTADO} {coeciente_eleitoral_estado}')"
   ]
  },
  {
   "cell_type": "code",
   "execution_count": 16,
   "metadata": {},
   "outputs": [
    {
     "name": "stdout",
     "output_type": "stream",
     "text": [
      "Assim, para um partido ter ao menos uma cadeira, era necessário ter ao menos, a quantidade de votos que queremos analisar, que no caso do RJ, é de 209033.0 votos\n"
     ]
    }
   ],
   "source": [
    "print(f'Assim, para um partido ter ao menos uma cadeira, era necessário ter ao menos, a quantidade de votos que queremos analisar, que no caso do RJ, é de {coeciente_eleitoral_estado} votos')"
   ]
  },
  {
   "cell_type": "code",
   "execution_count": 17,
   "metadata": {},
   "outputs": [
    {
     "name": "stdout",
     "output_type": "stream",
     "text": [
      "PSL na eleição, para o RJ, conseguiu 1927215 votos, ou seja, 9 cadeiras\n"
     ]
    }
   ],
   "source": [
    "# 2) Quantos votos o partido PSL conseguiu?\n",
    "dps_part = deputados_por_estado[deputados_por_estado['sigla_partido'] == PARTIDO]\n",
    "partido = partidos_por_estado[partidos_por_estado['sigla_partido'] == PARTIDO]\n",
    "votos_partido = sum(dps_part['total_votos']) + sum(partido['total_legenda'])\n",
    "cadeiras = int(votos_partido / coeciente_eleitoral_estado)\n",
    "print(f'PSL na eleição, para o RJ, conseguiu {votos_partido} votos, ou seja, {cadeiras} cadeiras')"
   ]
  },
  {
   "cell_type": "code",
   "execution_count": 18,
   "metadata": {},
   "outputs": [],
   "source": [
    "# 3) Quantos votos o Helio Bolsonaro conseguiu?\n",
    "dps_eleitos = dps_part[dps_part['descricao_totalizacao_turno'].isin(conditions)].sort_values(by='total_votos', ascending=False)"
   ]
  },
  {
   "cell_type": "code",
   "execution_count": 19,
   "metadata": {},
   "outputs": [
    {
     "name": "stdout",
     "output_type": "stream",
     "text": [
      "O deputado mais eleito no PSL foi HELIO FERNANDO BARBOSA LOPES, com 345234 votos\n"
     ]
    }
   ],
   "source": [
    "mais_eleito = dps_eleitos.iloc[0]\n",
    "print(f'O deputado mais eleito no {PARTIDO} foi {mais_eleito.nome_urna}, com {mais_eleito.total_votos} votos')"
   ]
  },
  {
   "cell_type": "code",
   "execution_count": 22,
   "metadata": {},
   "outputs": [
    {
     "data": {
      "text/html": [
       "<div>\n",
       "<style scoped>\n",
       "    .dataframe tbody tr th:only-of-type {\n",
       "        vertical-align: middle;\n",
       "    }\n",
       "\n",
       "    .dataframe tbody tr th {\n",
       "        vertical-align: top;\n",
       "    }\n",
       "\n",
       "    .dataframe thead th {\n",
       "        text-align: right;\n",
       "    }\n",
       "</style>\n",
       "<table border=\"1\" class=\"dataframe\">\n",
       "  <thead>\n",
       "    <tr style=\"text-align: right;\">\n",
       "      <th></th>\n",
       "      <th>nome_urna</th>\n",
       "      <th>total_votos</th>\n",
       "      <th>descricao_totalizacao_turno</th>\n",
       "    </tr>\n",
       "  </thead>\n",
       "  <tbody>\n",
       "    <tr>\n",
       "      <th>4419</th>\n",
       "      <td>HELIO FERNANDO BARBOSA LOPES</td>\n",
       "      <td>345234</td>\n",
       "      <td>ELEITO POR QP</td>\n",
       "    </tr>\n",
       "    <tr>\n",
       "      <th>4817</th>\n",
       "      <td>CARLOS JORDY</td>\n",
       "      <td>204048</td>\n",
       "      <td>ELEITO POR QP</td>\n",
       "    </tr>\n",
       "    <tr>\n",
       "      <th>4422</th>\n",
       "      <td>LUIZ LIMA</td>\n",
       "      <td>115119</td>\n",
       "      <td>ELEITO POR QP</td>\n",
       "    </tr>\n",
       "    <tr>\n",
       "      <th>4172</th>\n",
       "      <td>DELEGADO ANTONIO FURTADO</td>\n",
       "      <td>104211</td>\n",
       "      <td>ELEITO POR QP</td>\n",
       "    </tr>\n",
       "    <tr>\n",
       "      <th>4258</th>\n",
       "      <td>SARGENTO GURGEL</td>\n",
       "      <td>62089</td>\n",
       "      <td>ELEITO POR QP</td>\n",
       "    </tr>\n",
       "    <tr>\n",
       "      <th>4325</th>\n",
       "      <td>MAJOR FABIANA</td>\n",
       "      <td>57611</td>\n",
       "      <td>ELEITO POR QP</td>\n",
       "    </tr>\n",
       "    <tr>\n",
       "      <th>4690</th>\n",
       "      <td>FELICIO LATERCA</td>\n",
       "      <td>47065</td>\n",
       "      <td>ELEITO POR QP</td>\n",
       "    </tr>\n",
       "    <tr>\n",
       "      <th>4829</th>\n",
       "      <td>MARCIO LABRE</td>\n",
       "      <td>46934</td>\n",
       "      <td>ELEITO POR QP</td>\n",
       "    </tr>\n",
       "    <tr>\n",
       "      <th>4311</th>\n",
       "      <td>LOURIVAL GOMES</td>\n",
       "      <td>41307</td>\n",
       "      <td>ELEITO POR QP</td>\n",
       "    </tr>\n",
       "    <tr>\n",
       "      <th>4804</th>\n",
       "      <td>CHRIS TONIETTO</td>\n",
       "      <td>38525</td>\n",
       "      <td>ELEITO POR QP</td>\n",
       "    </tr>\n",
       "    <tr>\n",
       "      <th>4250</th>\n",
       "      <td>PROFESSOR JOZIEL</td>\n",
       "      <td>34274</td>\n",
       "      <td>ELEITO POR MEDIA</td>\n",
       "    </tr>\n",
       "    <tr>\n",
       "      <th>4525</th>\n",
       "      <td>DANIEL SILVEIRA</td>\n",
       "      <td>31789</td>\n",
       "      <td>ELEITO POR MEDIA</td>\n",
       "    </tr>\n",
       "  </tbody>\n",
       "</table>\n",
       "</div>"
      ],
      "text/plain": [
       "                         nome_urna  total_votos descricao_totalizacao_turno\n",
       "4419  HELIO FERNANDO BARBOSA LOPES       345234               ELEITO POR QP\n",
       "4817                  CARLOS JORDY       204048               ELEITO POR QP\n",
       "4422                     LUIZ LIMA       115119               ELEITO POR QP\n",
       "4172      DELEGADO ANTONIO FURTADO       104211               ELEITO POR QP\n",
       "4258               SARGENTO GURGEL        62089               ELEITO POR QP\n",
       "4325                 MAJOR FABIANA        57611               ELEITO POR QP\n",
       "4690               FELICIO LATERCA        47065               ELEITO POR QP\n",
       "4829                  MARCIO LABRE        46934               ELEITO POR QP\n",
       "4311                LOURIVAL GOMES        41307               ELEITO POR QP\n",
       "4804                CHRIS TONIETTO        38525               ELEITO POR QP\n",
       "4250              PROFESSOR JOZIEL        34274            ELEITO POR MEDIA\n",
       "4525               DANIEL SILVEIRA        31789            ELEITO POR MEDIA"
      ]
     },
     "execution_count": 22,
     "metadata": {},
     "output_type": "execute_result"
    }
   ],
   "source": [
    "# 4) Houve deputados puxados? Quais?\n",
    "# Primeiramente, como saber se houve deputados puxados? A primeira hipótese, é investigar casos em que os votos foram\n",
    "# menores que o coeficiente eleitoral\n",
    "\n",
    "props = ['nome_urna', 'total_votos', 'descricao_totalizacao_turno']\n",
    "dps_eleitos[props]"
   ]
  },
  {
   "cell_type": "code",
   "execution_count": 23,
   "metadata": {},
   "outputs": [
    {
     "data": {
      "text/html": [
       "<div>\n",
       "<style scoped>\n",
       "    .dataframe tbody tr th:only-of-type {\n",
       "        vertical-align: middle;\n",
       "    }\n",
       "\n",
       "    .dataframe tbody tr th {\n",
       "        vertical-align: top;\n",
       "    }\n",
       "\n",
       "    .dataframe thead th {\n",
       "        text-align: right;\n",
       "    }\n",
       "</style>\n",
       "<table border=\"1\" class=\"dataframe\">\n",
       "  <thead>\n",
       "    <tr style=\"text-align: right;\">\n",
       "      <th></th>\n",
       "      <th>nome_urna</th>\n",
       "      <th>total_votos</th>\n",
       "      <th>descricao_totalizacao_turno</th>\n",
       "    </tr>\n",
       "  </thead>\n",
       "  <tbody>\n",
       "    <tr>\n",
       "      <th>4817</th>\n",
       "      <td>CARLOS JORDY</td>\n",
       "      <td>204048</td>\n",
       "      <td>ELEITO POR QP</td>\n",
       "    </tr>\n",
       "    <tr>\n",
       "      <th>4422</th>\n",
       "      <td>LUIZ LIMA</td>\n",
       "      <td>115119</td>\n",
       "      <td>ELEITO POR QP</td>\n",
       "    </tr>\n",
       "    <tr>\n",
       "      <th>4172</th>\n",
       "      <td>DELEGADO ANTONIO FURTADO</td>\n",
       "      <td>104211</td>\n",
       "      <td>ELEITO POR QP</td>\n",
       "    </tr>\n",
       "    <tr>\n",
       "      <th>4258</th>\n",
       "      <td>SARGENTO GURGEL</td>\n",
       "      <td>62089</td>\n",
       "      <td>ELEITO POR QP</td>\n",
       "    </tr>\n",
       "    <tr>\n",
       "      <th>4325</th>\n",
       "      <td>MAJOR FABIANA</td>\n",
       "      <td>57611</td>\n",
       "      <td>ELEITO POR QP</td>\n",
       "    </tr>\n",
       "    <tr>\n",
       "      <th>4690</th>\n",
       "      <td>FELICIO LATERCA</td>\n",
       "      <td>47065</td>\n",
       "      <td>ELEITO POR QP</td>\n",
       "    </tr>\n",
       "    <tr>\n",
       "      <th>4829</th>\n",
       "      <td>MARCIO LABRE</td>\n",
       "      <td>46934</td>\n",
       "      <td>ELEITO POR QP</td>\n",
       "    </tr>\n",
       "    <tr>\n",
       "      <th>4311</th>\n",
       "      <td>LOURIVAL GOMES</td>\n",
       "      <td>41307</td>\n",
       "      <td>ELEITO POR QP</td>\n",
       "    </tr>\n",
       "    <tr>\n",
       "      <th>4804</th>\n",
       "      <td>CHRIS TONIETTO</td>\n",
       "      <td>38525</td>\n",
       "      <td>ELEITO POR QP</td>\n",
       "    </tr>\n",
       "    <tr>\n",
       "      <th>4250</th>\n",
       "      <td>PROFESSOR JOZIEL</td>\n",
       "      <td>34274</td>\n",
       "      <td>ELEITO POR MEDIA</td>\n",
       "    </tr>\n",
       "    <tr>\n",
       "      <th>4525</th>\n",
       "      <td>DANIEL SILVEIRA</td>\n",
       "      <td>31789</td>\n",
       "      <td>ELEITO POR MEDIA</td>\n",
       "    </tr>\n",
       "  </tbody>\n",
       "</table>\n",
       "</div>"
      ],
      "text/plain": [
       "                     nome_urna  total_votos descricao_totalizacao_turno\n",
       "4817              CARLOS JORDY       204048               ELEITO POR QP\n",
       "4422                 LUIZ LIMA       115119               ELEITO POR QP\n",
       "4172  DELEGADO ANTONIO FURTADO       104211               ELEITO POR QP\n",
       "4258           SARGENTO GURGEL        62089               ELEITO POR QP\n",
       "4325             MAJOR FABIANA        57611               ELEITO POR QP\n",
       "4690           FELICIO LATERCA        47065               ELEITO POR QP\n",
       "4829              MARCIO LABRE        46934               ELEITO POR QP\n",
       "4311            LOURIVAL GOMES        41307               ELEITO POR QP\n",
       "4804            CHRIS TONIETTO        38525               ELEITO POR QP\n",
       "4250          PROFESSOR JOZIEL        34274            ELEITO POR MEDIA\n",
       "4525           DANIEL SILVEIRA        31789            ELEITO POR MEDIA"
      ]
     },
     "execution_count": 23,
     "metadata": {},
     "output_type": "execute_result"
    }
   ],
   "source": [
    "dps_eleitos[dps_eleitos['total_votos'] <= coeciente_eleitoral_estado][props]"
   ]
  }
 ],
 "metadata": {
  "kernelspec": {
   "display_name": "Python 3",
   "language": "python",
   "name": "python3"
  },
  "language_info": {
   "codemirror_mode": {
    "name": "ipython",
    "version": 3
   },
   "file_extension": ".py",
   "mimetype": "text/x-python",
   "name": "python",
   "nbconvert_exporter": "python",
   "pygments_lexer": "ipython3",
   "version": "3.7.1"
  }
 },
 "nbformat": 4,
 "nbformat_minor": 2
}
